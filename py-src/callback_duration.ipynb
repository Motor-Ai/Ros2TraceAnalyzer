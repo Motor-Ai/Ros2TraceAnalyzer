{
 "cells": [
  {
   "cell_type": "code",
   "execution_count": null,
   "metadata": {},
   "outputs": [],
   "source": [
    "import json\n",
    "import numpy as np\n",
    "\n",
    "import matplotlib.pyplot as plt\n",
    "from dataclasses import dataclass"
   ]
  },
  {
   "cell_type": "code",
   "execution_count": null,
   "metadata": {},
   "outputs": [],
   "source": [
    "filename = \"../out/callback_duration.json\""
   ]
  },
  {
   "cell_type": "code",
   "execution_count": null,
   "metadata": {},
   "outputs": [],
   "source": [
    "@dataclass\n",
    "class Callback:\n",
    "    node: str\n",
    "    caller_type: str\n",
    "    caller_param: str\n",
    "\n",
    "    durations: np.ndarray"
   ]
  },
  {
   "cell_type": "code",
   "execution_count": null,
   "metadata": {},
   "outputs": [],
   "source": [
    "with open(filename, \"r\") as f:\n",
    "    data = json.load(f)\n",
    "\n",
    "callbacks = []\n",
    "for item in data:\n",
    "    node = item[\"node\"]\n",
    "    caller_type = item[\"caller_type\"]\n",
    "    caller_param = item[\"caller_param\"]\n",
    "    durations = (\n",
    "        np.array(item[\"durations\"]) / 1000\n",
    "    )  # convert to micro seconds from nanoseconds\n",
    "    callbacks.append(Callback(node, caller_type, caller_param, durations))"
   ]
  },
  {
   "cell_type": "code",
   "execution_count": null,
   "metadata": {},
   "outputs": [],
   "source": [
    "def plot_callback_duration_real(callback: Callback):\n",
    "    plt.plot(callback.durations)\n",
    "    plt.title(\n",
    "        f\"Callback duration\\n{callback.caller_type}: {callback.caller_param}\\nIn node: {callback.node}\"\n",
    "    )\n",
    "    plt.xlabel(\"execution #\")\n",
    "    plt.ylabel(\"duration ($\\\\mu$s)\")\n",
    "    plt.grid()\n",
    "    plt.show()"
   ]
  },
  {
   "cell_type": "code",
   "execution_count": null,
   "metadata": {},
   "outputs": [],
   "source": [
    "def plot_callback_duration_sorted(callback: Callback):\n",
    "    durations_sorted = np.sort(callback.durations)\n",
    "    y_axis = np.arange(1, len(durations_sorted) + 1)\n",
    "    y_axis = np.flip(y_axis)\n",
    "    plt.step(durations_sorted, y_axis, where=\"post\")\n",
    "    plt.title(\n",
    "        f\"Callback duration profile\\n{callback.caller_type}: {callback.caller_param}\\nIn node: {callback.node}\"\n",
    "    )\n",
    "    plt.grid()\n",
    "    plt.yscale(\"log\")\n",
    "    plt.xlabel(\"duration [$\\\\mu$s]\")\n",
    "    plt.ylabel(\"Callbacks [# of executions]\")\n",
    "    plt.show()"
   ]
  },
  {
   "cell_type": "code",
   "execution_count": null,
   "metadata": {},
   "outputs": [],
   "source": [
    "plot_callback_duration_real(callbacks[0])"
   ]
  },
  {
   "cell_type": "code",
   "execution_count": null,
   "metadata": {},
   "outputs": [],
   "source": [
    "plot_callback_duration_sorted(callbacks[0])"
   ]
  },
  {
   "cell_type": "code",
   "execution_count": null,
   "metadata": {},
   "outputs": [],
   "source": [
    "for callback in callbacks:\n",
    "    plot_callback_duration_real(callback)\n",
    "    plot_callback_duration_sorted(callback)"
   ]
  }
 ],
 "metadata": {
  "kernelspec": {
   "display_name": "science",
   "language": "python",
   "name": "python3"
  },
  "language_info": {
   "codemirror_mode": {
    "name": "ipython",
    "version": 3
   },
   "file_extension": ".py",
   "mimetype": "text/x-python",
   "name": "python",
   "nbconvert_exporter": "python",
   "pygments_lexer": "ipython3",
   "version": "3.10.13"
  }
 },
 "nbformat": 4,
 "nbformat_minor": 2
}
