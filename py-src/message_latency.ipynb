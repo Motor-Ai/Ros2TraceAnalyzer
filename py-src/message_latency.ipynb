{
 "cells": [
  {
   "cell_type": "code",
   "execution_count": null,
   "metadata": {},
   "outputs": [],
   "source": [
    "import json\n",
    "import numpy as np\n",
    "\n",
    "import matplotlib.pyplot as plt\n",
    "from dataclasses import dataclass"
   ]
  },
  {
   "cell_type": "code",
   "execution_count": null,
   "metadata": {},
   "outputs": [],
   "source": [
    "filename = \"../out/message_latency.json\""
   ]
  },
  {
   "cell_type": "code",
   "execution_count": null,
   "metadata": {},
   "outputs": [],
   "source": [
    "@dataclass\n",
    "class Connection:\n",
    "    topic: str\n",
    "    subscriber_node: str\n",
    "    publisher_node: str\n",
    "\n",
    "    latencies: np.ndarray"
   ]
  },
  {
   "cell_type": "code",
   "execution_count": null,
   "metadata": {},
   "outputs": [],
   "source": [
    "with open(filename, \"r\") as f:\n",
    "    data = json.load(f)\n",
    "\n",
    "connections = []\n",
    "for item in data:\n",
    "    topic = item[\"topic\"]\n",
    "    subscriber_node = item[\"subscriber_node\"]\n",
    "    publisher_node = item[\"publisher_node\"]\n",
    "    latencies = (\n",
    "        np.array(item[\"latencies\"]) / 1000\n",
    "    )  # convert to micro seconds from nanoseconds\n",
    "    connections.append(Connection(topic, subscriber_node, publisher_node, latencies))"
   ]
  },
  {
   "cell_type": "code",
   "execution_count": null,
   "metadata": {},
   "outputs": [],
   "source": [
    "def plot_connection_latency_real(connection: Connection):\n",
    "    \"\"\" Plot the latency of a connection in given order \"\"\"\n",
    "    plt.plot(connection.latencies)\n",
    "    plt.title(\n",
    "        f\"Connection latency\\ntopic: {connection.topic}\\nPublisher's node: {connection.publisher_node}\\nSubscriber's node: {connection.subscriber_node}\"\n",
    "    )\n",
    "    plt.xlabel(\"message #\")\n",
    "    plt.ylabel(\"latency [$\\\\mu$s]\")\n",
    "    plt.grid()\n",
    "    plt.show()"
   ]
  },
  {
   "cell_type": "code",
   "execution_count": null,
   "metadata": {},
   "outputs": [],
   "source": [
    "def plot_connection_latency_sorted(connection: Connection):\n",
    "    latencies_sorted = np.sort(connection.latencies)\n",
    "    y_axis = np.arange(1, len(latencies_sorted) + 1)\n",
    "    y_axis = np.flip(y_axis)\n",
    "    plt.step(latencies_sorted, y_axis, where=\"post\")\n",
    "    plt.title(\n",
    "        f\"Latency profile\\ntopic: {connection.topic}\\nPublisher's node: {connection.publisher_node}\\nSubscriber's node: {connection.subscriber_node}\"\n",
    "    )\n",
    "    plt.grid()\n",
    "    plt.yscale(\"log\")\n",
    "    plt.xlabel(\"latency [$\\\\mu$s]\")\n",
    "    plt.ylabel(\"message [#]\")\n",
    "    plt.show()"
   ]
  },
  {
   "cell_type": "code",
   "execution_count": null,
   "metadata": {},
   "outputs": [],
   "source": [
    "for connection in connections:\n",
    "    plot_connection_latency_real(connection)\n",
    "    plot_connection_latency_sorted(connection)"
   ]
  }
 ],
 "metadata": {
  "kernelspec": {
   "display_name": "science",
   "language": "python",
   "name": "python3"
  },
  "language_info": {
   "codemirror_mode": {
    "name": "ipython",
    "version": 3
   },
   "file_extension": ".py",
   "mimetype": "text/x-python",
   "name": "python",
   "nbconvert_exporter": "python",
   "pygments_lexer": "ipython3",
   "version": "3.10.13"
  }
 },
 "nbformat": 4,
 "nbformat_minor": 2
}
